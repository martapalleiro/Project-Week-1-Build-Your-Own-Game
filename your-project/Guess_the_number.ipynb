{
 "cells": [
  {
   "cell_type": "code",
   "execution_count": 1,
   "metadata": {},
   "outputs": [],
   "source": [
    "import random"
   ]
  },
  {
   "cell_type": "code",
   "execution_count": 2,
   "metadata": {},
   "outputs": [],
   "source": [
    "def hello_guessthenumber():\n",
    "    name = input(\"Hello, what's your name? \")\n",
    "    print(\"Hello \" + name + \"!\")\n",
    "    level = input(\"Pick a level: easy or hard? \")\n",
    "    if level == \"easy\":\n",
    "        number1 = random.randint(1, 10)\n",
    "        print(\"I'm thinking of a number between 1 and 10. You will have 5 turns.\")\n",
    "    elif level == \"hard\":\n",
    "        number1 = random.randint(1, 100)\n",
    "        print(\"I'm thinking of a number between 1 and 100. You will have 5 turns.\")\n",
    "    else:\n",
    "        print(\"That's not a level...\") "
   ]
  },
  {
   "cell_type": "code",
   "execution_count": 3,
   "metadata": {},
   "outputs": [
    {
     "name": "stdout",
     "output_type": "stream",
     "text": [
      "Hello, what's your name? m\n",
      "Hello m!\n",
      "Pick a level: easy or hard? easy\n",
      "I'm thinking of a number between 1 and 10. You will have 5 turns.\n"
     ]
    }
   ],
   "source": [
    "hello_guessthenumber()"
   ]
  },
  {
   "cell_type": "code",
   "execution_count": 4,
   "metadata": {},
   "outputs": [
    {
     "name": "stdout",
     "output_type": "stream",
     "text": [
      "Guess: 4\n"
     ]
    }
   ],
   "source": [
    "number2 = int(input(\"Guess: \"))"
   ]
  },
  {
   "cell_type": "code",
   "execution_count": 5,
   "metadata": {},
   "outputs": [],
   "source": [
    "guesses = 0\n",
    "\n",
    "#We want to know how many guesses it takes to guess the number, max 5 guesses."
   ]
  },
  {
   "cell_type": "code",
   "execution_count": 6,
   "metadata": {},
   "outputs": [
    {
     "ename": "NameError",
     "evalue": "name 'number1' is not defined",
     "output_type": "error",
     "traceback": [
      "\u001b[0;31m---------------------------------------------------------------------------\u001b[0m",
      "\u001b[0;31mNameError\u001b[0m                                 Traceback (most recent call last)",
      "\u001b[0;32m<ipython-input-6-20ebf6894e42>\u001b[0m in \u001b[0;36m<module>\u001b[0;34m\u001b[0m\n\u001b[1;32m      1\u001b[0m \u001b[0;32mwhile\u001b[0m \u001b[0mguesses\u001b[0m \u001b[0;34m<\u001b[0m \u001b[0;36m5\u001b[0m\u001b[0;34m:\u001b[0m\u001b[0;34m\u001b[0m\u001b[0;34m\u001b[0m\u001b[0m\n\u001b[0;32m----> 2\u001b[0;31m     \u001b[0;32mif\u001b[0m \u001b[0mnumber2\u001b[0m \u001b[0;34m==\u001b[0m \u001b[0mnumber1\u001b[0m\u001b[0;34m:\u001b[0m\u001b[0;34m\u001b[0m\u001b[0;34m\u001b[0m\u001b[0m\n\u001b[0m\u001b[1;32m      3\u001b[0m         \u001b[0mprint\u001b[0m\u001b[0;34m(\u001b[0m\u001b[0;34m\"Congratulations! You guessed the number!\"\u001b[0m\u001b[0;34m)\u001b[0m\u001b[0;34m\u001b[0m\u001b[0;34m\u001b[0m\u001b[0m\n\u001b[1;32m      4\u001b[0m         \u001b[0;32mbreak\u001b[0m\u001b[0;34m\u001b[0m\u001b[0;34m\u001b[0m\u001b[0m\n\u001b[1;32m      5\u001b[0m     \u001b[0;32melif\u001b[0m \u001b[0mnumber2\u001b[0m \u001b[0;34m<\u001b[0m \u001b[0mnumber1\u001b[0m\u001b[0;34m:\u001b[0m\u001b[0;34m\u001b[0m\u001b[0;34m\u001b[0m\u001b[0m\n",
      "\u001b[0;31mNameError\u001b[0m: name 'number1' is not defined"
     ]
    }
   ],
   "source": [
    "while guesses < 5:\n",
    "    if number2 == number1:\n",
    "        print(\"Congratulations! You guessed the number!\")\n",
    "        break\n",
    "    elif number2 < number1:\n",
    "        guesses += 1\n",
    "        print(\"Too low\")\n",
    "        number2 = int(input(\"Guess: \"))\n",
    "    elif number2 > number1:\n",
    "        guesses += 1\n",
    "        print(\"Too high\")\n",
    "        number2 = int(input(\"Guess: \"))\n",
    "    else:\n",
    "        print(\"Sorry, you lost the game.\")              "
   ]
  },
  {
   "cell_type": "code",
   "execution_count": null,
   "metadata": {},
   "outputs": [],
   "source": []
  },
  {
   "cell_type": "code",
   "execution_count": null,
   "metadata": {},
   "outputs": [],
   "source": []
  },
  {
   "cell_type": "code",
   "execution_count": null,
   "metadata": {},
   "outputs": [],
   "source": []
  },
  {
   "cell_type": "code",
   "execution_count": null,
   "metadata": {},
   "outputs": [],
   "source": []
  }
 ],
 "metadata": {
  "kernelspec": {
   "display_name": "Python 3",
   "language": "python",
   "name": "python3"
  },
  "language_info": {
   "codemirror_mode": {
    "name": "ipython",
    "version": 3
   },
   "file_extension": ".py",
   "mimetype": "text/x-python",
   "name": "python",
   "nbconvert_exporter": "python",
   "pygments_lexer": "ipython3",
   "version": "3.8.3"
  }
 },
 "nbformat": 4,
 "nbformat_minor": 4
}
