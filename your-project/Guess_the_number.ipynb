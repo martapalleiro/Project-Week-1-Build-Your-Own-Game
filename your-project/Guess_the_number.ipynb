{
 "cells": [
  {
   "cell_type": "code",
   "execution_count": 1,
   "metadata": {},
   "outputs": [
    {
     "name": "stdout",
     "output_type": "stream",
     "text": [
      "Hello, what's your name? marta\n"
     ]
    }
   ],
   "source": [
    "name = input(\"Hello, what's your name? \")"
   ]
  },
  {
   "cell_type": "code",
   "execution_count": 3,
   "metadata": {},
   "outputs": [
    {
     "name": "stdout",
     "output_type": "stream",
     "text": [
      "Hello marta!\n",
      "Pick a level: easy or hard? easy\n"
     ]
    }
   ],
   "source": [
    "print(\"Hello \" + name + \"!\")\n",
    "level = input(\"Pick a level: easy or hard? \")"
   ]
  },
  {
   "cell_type": "code",
   "execution_count": 4,
   "metadata": {},
   "outputs": [],
   "source": [
    "import random"
   ]
  },
  {
   "cell_type": "code",
   "execution_count": 13,
   "metadata": {},
   "outputs": [
    {
     "name": "stdout",
     "output_type": "stream",
     "text": [
      "I'm thinking of a number between 1 and 10. You will have 5 turns.\n"
     ]
    }
   ],
   "source": [
    "if level == \"easy\":\n",
    "    number = random.randint(1, 10)\n",
    "    print(\"I'm thinking of a number between 1 and 10. You will have 5 turns.\")\n",
    "elif level == \"hard\":\n",
    "    number = random.randint(1, 100)\n",
    "    print(\"I'm thinking of a number between 1 and 100. You will have 5 turns.\")\n",
    "else:\n",
    "    print(\"That's not a level...\")   "
   ]
  },
  {
   "cell_type": "code",
   "execution_count": 11,
   "metadata": {},
   "outputs": [],
   "source": [
    "guesses = 0\n",
    "\n",
    "#We want to know how many guesses it takes to guess the number, max 5 guesses."
   ]
  },
  {
   "cell_type": "code",
   "execution_count": null,
   "metadata": {},
   "outputs": [],
   "source": [
    "number = input(\"Guess:\")\n",
    "number = int(guess)\n",
    "\n",
    "#Player gives a number"
   ]
  },
  {
   "cell_type": "code",
   "execution_count": null,
   "metadata": {},
   "outputs": [],
   "source": [
    "def guess_the_number():\n",
    "    while guesses < 5:\n",
    "        if guess < number:\n",
    "            print(\"Is too low\")\n",
    "        elif guess > number:\n",
    "            print(\"Is too high\")\n",
    "        \n",
    "    "
   ]
  },
  {
   "cell_type": "code",
   "execution_count": null,
   "metadata": {},
   "outputs": [],
   "source": []
  },
  {
   "cell_type": "code",
   "execution_count": 21,
   "metadata": {},
   "outputs": [],
   "source": [
    "while guesses < 5:\n",
    "    guess = input(\"Enter a guess: \")\n",
    "    guess = int(guess)\n",
    "    guesses += 1\n",
    "    if guess < number:\n",
    "        print(\"Is too low\")\n",
    "    elif guess > number:\n",
    "        print(\"Is too high\")\n",
    "    else:\n",
    "        break"
   ]
  },
  {
   "cell_type": "code",
   "execution_count": null,
   "metadata": {},
   "outputs": [],
   "source": []
  },
  {
   "cell_type": "code",
   "execution_count": null,
   "metadata": {},
   "outputs": [],
   "source": []
  },
  {
   "cell_type": "code",
   "execution_count": null,
   "metadata": {},
   "outputs": [],
   "source": []
  },
  {
   "cell_type": "code",
   "execution_count": null,
   "metadata": {},
   "outputs": [],
   "source": []
  },
  {
   "cell_type": "code",
   "execution_count": null,
   "metadata": {},
   "outputs": [],
   "source": []
  }
 ],
 "metadata": {
  "kernelspec": {
   "display_name": "Python 3",
   "language": "python",
   "name": "python3"
  },
  "language_info": {
   "codemirror_mode": {
    "name": "ipython",
    "version": 3
   },
   "file_extension": ".py",
   "mimetype": "text/x-python",
   "name": "python",
   "nbconvert_exporter": "python",
   "pygments_lexer": "ipython3",
   "version": "3.8.3"
  }
 },
 "nbformat": 4,
 "nbformat_minor": 4
}
