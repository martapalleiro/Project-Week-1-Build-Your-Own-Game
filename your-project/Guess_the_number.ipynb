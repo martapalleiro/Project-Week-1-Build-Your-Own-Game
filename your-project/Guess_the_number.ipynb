{
 "cells": [
  {
   "cell_type": "code",
   "execution_count": 152,
   "metadata": {},
   "outputs": [],
   "source": [
    "import random"
   ]
  },
  {
   "cell_type": "code",
   "execution_count": 153,
   "metadata": {},
   "outputs": [],
   "source": [
    "def hello_guessthenumber():\n",
    "    name = input(\"Hello, what's your name? \")\n",
    "    print(\"Hello \" + name + \"!\")\n",
    "    level = input(\"Pick a level: easy or hard? \")\n",
    "    if level == \"easy\":\n",
    "        number1 = random.randint(1, 10)\n",
    "        print(\"I'm thinking of a number between 1 and 10. You will have 5 turns.\")\n",
    "    elif level == \"hard\":\n",
    "        number1 = random.randint(1, 100)\n",
    "        print(\"I'm thinking of a number between 1 and 100. You will have 5 turns.\")\n",
    "    else:\n",
    "        print(\"That's not a level...\") "
   ]
  },
  {
   "cell_type": "code",
   "execution_count": 154,
   "metadata": {},
   "outputs": [
    {
     "name": "stdout",
     "output_type": "stream",
     "text": [
      "Hello, what's your name? m\n",
      "Hello m!\n",
      "Pick a level: easy or hard? hard\n",
      "I'm thinking of a number between 1 and 100. You will have 5 turns.\n"
     ]
    }
   ],
   "source": [
    "hello_guessthenumber()"
   ]
  },
  {
   "cell_type": "code",
   "execution_count": 155,
   "metadata": {},
   "outputs": [
    {
     "name": "stdout",
     "output_type": "stream",
     "text": [
      "Guess: 59\n"
     ]
    }
   ],
   "source": [
    "number2 = int(input(\"Guess: \"))"
   ]
  },
  {
   "cell_type": "code",
   "execution_count": 156,
   "metadata": {},
   "outputs": [],
   "source": [
    "guesses = 0\n",
    "\n",
    "#We want to know how many guesses it takes to guess the number, max 5 guesses."
   ]
  },
  {
   "cell_type": "code",
   "execution_count": 157,
   "metadata": {},
   "outputs": [
    {
     "name": "stdout",
     "output_type": "stream",
     "text": [
      "Too high\n",
      "Guess: 1\n",
      "Congratulations! You guessed the number!\n"
     ]
    }
   ],
   "source": [
    "while guesses < 5:\n",
    "    if number2 == number1:\n",
    "        print(\"Congratulations! You guessed the number!\")\n",
    "        break\n",
    "    elif number2 < number1:\n",
    "        guesses += 1\n",
    "        print(\"Too low\")\n",
    "        number2 = int(input(\"Guess: \"))\n",
    "    elif number2 > number1:\n",
    "        guesses += 1\n",
    "        print(\"Too high\")\n",
    "        number2 = int(input(\"Guess: \"))\n",
    "    else:\n",
    "        print(\"Sorry, you lost the game.\")              "
   ]
  },
  {
   "cell_type": "code",
   "execution_count": null,
   "metadata": {},
   "outputs": [],
   "source": []
  },
  {
   "cell_type": "code",
   "execution_count": null,
   "metadata": {},
   "outputs": [],
   "source": []
  },
  {
   "cell_type": "code",
   "execution_count": null,
   "metadata": {},
   "outputs": [],
   "source": []
  }
 ],
 "metadata": {
  "kernelspec": {
   "display_name": "Python 3",
   "language": "python",
   "name": "python3"
  },
  "language_info": {
   "codemirror_mode": {
    "name": "ipython",
    "version": 3
   },
   "file_extension": ".py",
   "mimetype": "text/x-python",
   "name": "python",
   "nbconvert_exporter": "python",
   "pygments_lexer": "ipython3",
   "version": "3.8.3"
  }
 },
 "nbformat": 4,
 "nbformat_minor": 4
}
