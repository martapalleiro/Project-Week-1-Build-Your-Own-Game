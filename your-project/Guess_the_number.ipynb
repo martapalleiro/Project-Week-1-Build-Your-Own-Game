{
 "cells": [
  {
   "cell_type": "code",
   "execution_count": 3,
   "metadata": {},
   "outputs": [
    {
     "name": "stdout",
     "output_type": "stream",
     "text": [
      "Hello, what's your name? marta\n"
     ]
    }
   ],
   "source": [
    "name = input(\"Hello, what's your name? \")"
   ]
  },
  {
   "cell_type": "code",
   "execution_count": 4,
   "metadata": {},
   "outputs": [
    {
     "name": "stdout",
     "output_type": "stream",
     "text": [
      "Hello marta!\n",
      "Pick a level: easy or hard? easy\n"
     ]
    }
   ],
   "source": [
    "print(\"Hello \" + name + \"!\")\n",
    "level = input(\"Pick a level: easy or hard? \")"
   ]
  },
  {
   "cell_type": "code",
   "execution_count": 5,
   "metadata": {},
   "outputs": [],
   "source": [
    "import random"
   ]
  },
  {
   "cell_type": "code",
   "execution_count": 6,
   "metadata": {},
   "outputs": [
    {
     "name": "stdout",
     "output_type": "stream",
     "text": [
      "I'm thinking of a number between 1 and 10. You will have 5 turns.\n"
     ]
    }
   ],
   "source": [
    "if level == \"easy\":\n",
    "    number1 = random.randint(1, 10)\n",
    "    print(\"I'm thinking of a number between 1 and 10. You will have 5 turns.\")\n",
    "elif level == \"hard\":\n",
    "    number1 = random.randint(1, 100)\n",
    "    print(\"I'm thinking of a number between 1 and 100. You will have 5 turns.\")\n",
    "else:\n",
    "    print(\"That's not a level...\")   "
   ]
  },
  {
   "cell_type": "code",
   "execution_count": 7,
   "metadata": {},
   "outputs": [],
   "source": [
    "guesses = 0\n",
    "\n",
    "#We want to know how many guesses it takes to guess the number, max 5 guesses."
   ]
  },
  {
   "cell_type": "code",
   "execution_count": 10,
   "metadata": {},
   "outputs": [
    {
     "name": "stdout",
     "output_type": "stream",
     "text": [
      "Guess: 5\n"
     ]
    }
   ],
   "source": [
    "number2 = input(\"Guess: \")\n",
    "number2 = int(number2)\n",
    "\n",
    "#Player gives a number"
   ]
  },
  {
   "cell_type": "code",
   "execution_count": 15,
   "metadata": {},
   "outputs": [],
   "source": [
    "def guess_the_number(number1, number2):\n",
    "    guesses += 1\n",
    "    if number1 == number2:\n",
    "        print(\"You guessed the number!\")\n",
    "    elif number1 != number2:\n",
    "        \n",
    "        "
   ]
  },
  {
   "cell_type": "code",
   "execution_count": null,
   "metadata": {},
   "outputs": [],
   "source": []
  },
  {
   "cell_type": "code",
   "execution_count": 21,
   "metadata": {},
   "outputs": [],
   "source": [
    "while guesses < 5:\n",
    "    guesses += 1\n",
    "    if guess < number:\n",
    "        print(\"Is too low\")\n",
    "    elif guess > number:\n",
    "        print(\"Is too high\")\n",
    "    else:\n",
    "        break"
   ]
  },
  {
   "cell_type": "code",
   "execution_count": null,
   "metadata": {},
   "outputs": [],
   "source": []
  },
  {
   "cell_type": "code",
   "execution_count": null,
   "metadata": {},
   "outputs": [],
   "source": []
  },
  {
   "cell_type": "code",
   "execution_count": null,
   "metadata": {},
   "outputs": [],
   "source": []
  },
  {
   "cell_type": "code",
   "execution_count": null,
   "metadata": {},
   "outputs": [],
   "source": []
  },
  {
   "cell_type": "code",
   "execution_count": null,
   "metadata": {},
   "outputs": [],
   "source": []
  }
 ],
 "metadata": {
  "kernelspec": {
   "display_name": "Python 3",
   "language": "python",
   "name": "python3"
  },
  "language_info": {
   "codemirror_mode": {
    "name": "ipython",
    "version": 3
   },
   "file_extension": ".py",
   "mimetype": "text/x-python",
   "name": "python",
   "nbconvert_exporter": "python",
   "pygments_lexer": "ipython3",
   "version": "3.8.3"
  }
 },
 "nbformat": 4,
 "nbformat_minor": 4
}
