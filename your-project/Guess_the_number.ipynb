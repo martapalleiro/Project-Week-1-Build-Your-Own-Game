{
 "cells": [
  {
   "cell_type": "code",
   "execution_count": 64,
   "metadata": {},
   "outputs": [],
   "source": [
    "import random"
   ]
  },
  {
   "cell_type": "raw",
   "metadata": {},
   "source": [
    "number_10 = random.randint(1, 10)\n",
    "number_100 = random.randint(1, 100)"
   ]
  },
  {
   "cell_type": "code",
   "execution_count": 65,
   "metadata": {},
   "outputs": [],
   "source": [
    "def hello_guessthenumber():\n",
    "    name = input(\"Hello, what's your name? \")\n",
    "    print(\"Hello \" + name + \"!\")\n",
    "    level = input(\"Pick a level: easy or hard? \")\n",
    "    if level == \"easy\":\n",
    "        number_10\n",
    "        print(\"I'm thinking of a number between 1 and 10. You will have 5 turns.\")\n",
    "    elif level == \"hard\":\n",
    "        number_100\n",
    "        print(\"I'm thinking of a number between 1 and 100. You will have 5 turns.\")\n",
    "    else:\n",
    "        print(\"That's not a level...\") "
   ]
  },
  {
   "cell_type": "code",
   "execution_count": 66,
   "metadata": {},
   "outputs": [
    {
     "name": "stdout",
     "output_type": "stream",
     "text": [
      "Hello, what's your name? m\n",
      "Hello m!\n",
      "Pick a level: easy or hard? hard\n",
      "I'm thinking of a number between 1 and 100. You will have 5 turns.\n"
     ]
    }
   ],
   "source": [
    "hello_guessthenumber()"
   ]
  },
  {
   "cell_type": "code",
   "execution_count": 72,
   "metadata": {},
   "outputs": [
    {
     "name": "stdout",
     "output_type": "stream",
     "text": [
      "Guess: 77\n"
     ]
    }
   ],
   "source": [
    "player_number = int(input(\"Guess: \"))"
   ]
  },
  {
   "cell_type": "code",
   "execution_count": 73,
   "metadata": {},
   "outputs": [],
   "source": [
    "guesses = 0\n",
    "\n",
    "#We want to know how many guesses it takes to guess the number, max 5 guesses."
   ]
  },
  {
   "cell_type": "code",
   "execution_count": 74,
   "metadata": {},
   "outputs": [
    {
     "name": "stdout",
     "output_type": "stream",
     "text": [
      "Too high\n",
      "Guess: 33\n",
      "Too low\n",
      "Guess: 55\n",
      "Too high\n",
      "Guess: 22\n",
      "Too low\n",
      "Guess: 44\n",
      "Too high\n",
      "Guess: 31\n"
     ]
    }
   ],
   "source": [
    "while guesses < 5:\n",
    "    if player_number == number_10:\n",
    "        print(\"Congratulations! You guessed the number!\")\n",
    "        break\n",
    "    elif player_number == number_100:\n",
    "        print(\"Congratulations! You guessed the number!\")\n",
    "        break\n",
    "    elif player_number < number_10:\n",
    "        guesses += 1\n",
    "        print(\"Too low\")\n",
    "        player_number = int(input(\"Guess: \"))\n",
    "        continue\n",
    "    elif player_number < number_100:\n",
    "        guesses += 1\n",
    "        print(\"Too low\")\n",
    "        player_number = int(input(\"Guess: \"))\n",
    "        continue\n",
    "    elif player_number > number_10:\n",
    "        guesses += 1\n",
    "        print(\"Too high\")\n",
    "        player_number = int(input(\"Guess: \"))\n",
    "        continue\n",
    "    elif player_number > number_100:\n",
    "        guesses += 1\n",
    "        print(\"Too high\")\n",
    "        player_number = int(input(\"Guess: \"))\n",
    "        continue\n",
    "    else:\n",
    "        print(\"Sorry, you lost the game.\") "
   ]
  },
  {
   "cell_type": "code",
   "execution_count": null,
   "metadata": {},
   "outputs": [],
   "source": []
  },
  {
   "cell_type": "code",
   "execution_count": null,
   "metadata": {},
   "outputs": [],
   "source": []
  },
  {
   "cell_type": "code",
   "execution_count": null,
   "metadata": {},
   "outputs": [],
   "source": []
  },
  {
   "cell_type": "code",
   "execution_count": null,
   "metadata": {},
   "outputs": [],
   "source": []
  },
  {
   "cell_type": "code",
   "execution_count": null,
   "metadata": {},
   "outputs": [],
   "source": []
  },
  {
   "cell_type": "code",
   "execution_count": null,
   "metadata": {},
   "outputs": [],
   "source": []
  },
  {
   "cell_type": "code",
   "execution_count": 46,
   "metadata": {},
   "outputs": [],
   "source": [
    "if player_number == number_easy or player_number == number_hard:\n",
    "    print(\"Congratulations! You guessed the number!\")     "
   ]
  },
  {
   "cell_type": "code",
   "execution_count": 48,
   "metadata": {},
   "outputs": [
    {
     "name": "stdout",
     "output_type": "stream",
     "text": [
      "Sorry, you lost the game.\n"
     ]
    }
   ],
   "source": [
    "while guesses < 5:\n",
    "    if player_number < number_easy:\n",
    "        guesses += 1\n",
    "        print(\"Too low\")\n",
    "        player_number = int(input(\"Guess: \"))\n",
    "    elif player_number > number_easy:\n",
    "        guesses += 1\n",
    "        print(\"Too high\")\n",
    "        player_number = int(input(\"Guess: \"))\n",
    "    else:\n",
    "        print(\"Sorry, you lost the game.\")\n",
    "        \n",
    "    "
   ]
  },
  {
   "cell_type": "code",
   "execution_count": null,
   "metadata": {},
   "outputs": [],
   "source": []
  },
  {
   "cell_type": "code",
   "execution_count": null,
   "metadata": {},
   "outputs": [],
   "source": []
  },
  {
   "cell_type": "code",
   "execution_count": 57,
   "metadata": {},
   "outputs": [
    {
     "name": "stdout",
     "output_type": "stream",
     "text": [
      "Too low\n",
      "Guess: 7\n",
      "Congratulations! You guessed the number!\n"
     ]
    }
   ],
   "source": [
    "while guesses < 5:\n",
    "    if player_number == number_10:\n",
    "        print(\"Congratulations! You guessed the number!\")\n",
    "        break\n",
    "    elif player_number == number_100:\n",
    "        print(\"Congratulations! You guessed the number!\")\n",
    "        break\n",
    "    elif player_number < number_10:\n",
    "        guesses += 1\n",
    "        print(\"Too low\")\n",
    "        player_number = int(input(\"Guess: \"))\n",
    "        continue\n",
    "    elif player_number < number_100:\n",
    "        guesses += 1\n",
    "        print(\"Too low\")\n",
    "        player_number = int(input(\"Guess: \"))\n",
    "        continue\n",
    "    elif player_number > number_10:\n",
    "        guesses += 1\n",
    "        print(\"Too high\")\n",
    "        player_number = int(input(\"Guess: \"))\n",
    "        continue\n",
    "    elif player_number > number_100:\n",
    "        guesses += 1\n",
    "        print(\"Too high\")\n",
    "        player_number = int(input(\"Guess: \"))\n",
    "        continue\n",
    "    else:\n",
    "        print(\"Sorry, you lost the game.\")              "
   ]
  },
  {
   "cell_type": "code",
   "execution_count": null,
   "metadata": {},
   "outputs": [],
   "source": []
  },
  {
   "cell_type": "code",
   "execution_count": null,
   "metadata": {},
   "outputs": [],
   "source": []
  },
  {
   "cell_type": "code",
   "execution_count": null,
   "metadata": {},
   "outputs": [],
   "source": [
    "tries_count=0\n",
    "    for i in range(0, tries):\n",
    "        guess_number=ask_number()\n",
    "        if guess_number==correct_number:\n",
    "            print(\"Congratulations! You guessed the number!\\n\")\n",
    "            break\n",
    "        elif guess_number<correct_number and tries_count<tries-1:\n",
    "            tries_count+=1\n",
    "            print(\"You are too low, try again! Tries left:\", tries-tries_count, \"\\n\")\n",
    "            continue\n",
    "        elif guess_number>correct_number and tries_count<tries-1:\n",
    "            tries_count+=1\n",
    "            print(\"You are too high, try again! Tries left:\", tries-tries_count, \"\\n\")\n",
    "            continue\n",
    "        else:\n",
    "            print(\"You don't have any tries left, you lose the game. The correct number was\", correct_number, \"\\n\")"
   ]
  },
  {
   "cell_type": "code",
   "execution_count": null,
   "metadata": {},
   "outputs": [],
   "source": []
  }
 ],
 "metadata": {
  "kernelspec": {
   "display_name": "Python 3",
   "language": "python",
   "name": "python3"
  },
  "language_info": {
   "codemirror_mode": {
    "name": "ipython",
    "version": 3
   },
   "file_extension": ".py",
   "mimetype": "text/x-python",
   "name": "python",
   "nbconvert_exporter": "python",
   "pygments_lexer": "ipython3",
   "version": "3.8.3"
  }
 },
 "nbformat": 4,
 "nbformat_minor": 4
}
